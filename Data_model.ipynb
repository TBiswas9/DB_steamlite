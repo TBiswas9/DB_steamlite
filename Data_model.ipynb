{
 "cells": [
  {
   "cell_type": "code",
   "execution_count": 1,
   "metadata": {
    "executionInfo": {
     "elapsed": 7,
     "status": "ok",
     "timestamp": 1738257094621,
     "user": {
      "displayName": "Tinku Biswas",
      "userId": "05103989339399685899"
     },
     "user_tz": -330
    },
    "id": "JWpuZ2wkMNcl"
   },
   "outputs": [],
   "source": [
    "import pandas as pd\n",
    "pd.set_option('display.max_columns', None)\n",
    "import warnings\n",
    "warnings.filterwarnings('ignore')\n",
    "import numpy as np\n",
    "import os\n",
    "import glob"
   ]
  },
  {
   "cell_type": "code",
   "execution_count": 3,
   "metadata": {
    "colab": {
     "base_uri": "https://localhost:8080/"
    },
    "executionInfo": {
     "elapsed": 46547,
     "status": "ok",
     "timestamp": 1738257214931,
     "user": {
      "displayName": "Tinku Biswas",
      "userId": "05103989339399685899"
     },
     "user_tz": -330
    },
    "id": "GwT2e-hrMrfE",
    "outputId": "d7e49dfb-b458-4dd1-e612-cbcd634c2fe3"
   },
   "outputs": [
    {
     "name": "stdout",
     "output_type": "stream",
     "text": [
      "Mounted at /content/drive\n"
     ]
    }
   ],
   "source": [
    "from google.colab import drive\n",
    "drive.mount(\"/content/drive\")"
   ]
  },
  {
   "cell_type": "code",
   "execution_count": 4,
   "metadata": {
    "executionInfo": {
     "elapsed": 51603,
     "status": "ok",
     "timestamp": 1738257344734,
     "user": {
      "displayName": "Tinku Biswas",
      "userId": "05103989339399685899"
     },
     "user_tz": -330
    },
    "id": "zUrDGHtZMYQg"
   },
   "outputs": [],
   "source": [
    "os.chdir(r'/content/drive/Production')\n",
    "extension = 'csv'\n",
    "all_files = [i for i in glob.glob('*.{}'.format(extension))]\n",
    "Prod = pd.concat([pd.read_csv(f\n",
    "                             ,usecols=['Encounter #','DOS','Bucket','Practice','Financial Class','Payer','Disposition Code','Action Code','Activity Date','Associate',\n",
    "                                       'Supervisor','Manager','Activity Note','Inventory Type','Source Of Action','Action','Created By','Billed Amount','Total Balance',]\n",
    "                            ,low_memory=False, encoding='latin1') for f in all_files ])"
   ]
  },
  {
   "cell_type": "code",
   "execution_count": 6,
   "metadata": {
    "executionInfo": {
     "elapsed": 138991,
     "status": "ok",
     "timestamp": 1738257495338,
     "user": {
      "displayName": "Tinku Biswas",
      "userId": "05103989339399685899"
     },
     "user_tz": -330
    },
    "id": "8L7Z7N42Mbxy"
   },
   "outputs": [],
   "source": [
    "os.chdir(r'/content/drive/Adjustment')\n",
    "extension = 'csv'\n",
    "all_files = [i for i in glob.glob('*.{}'.format(extension))]\n",
    "Adj = pd.concat([pd.read_csv(f\n",
    "                             ,usecols=['Ins_Pat_Flag','ClaimNumber','Post_Date','Adjustment']\n",
    "                             ,low_memory=False) for f in all_files ])"
   ]
  },
  {
   "cell_type": "code",
   "execution_count": 7,
   "metadata": {
    "executionInfo": {
     "elapsed": 127250,
     "status": "ok",
     "timestamp": 1738257622563,
     "user": {
      "displayName": "Tinku Biswas",
      "userId": "05103989339399685899"
     },
     "user_tz": -330
    },
    "id": "KdECAUEMMexk"
   },
   "outputs": [],
   "source": [
    "os.chdir(r'/content/drive/Payments')\n",
    "extension = 'csv'\n",
    "all_files = [i for i in glob.glob('*.{}'.format(extension))]\n",
    "\n",
    "Pay = pd.concat([pd.read_csv(f\n",
    "                             ,usecols=['Ins_Pat_Flag','ClaimNumber','Post_Date','Payment']\n",
    "                             ,low_memory=False) for f in all_files ])"
   ]
  },
  {
   "cell_type": "code",
   "execution_count": 8,
   "metadata": {
    "executionInfo": {
     "elapsed": 27,
     "status": "ok",
     "timestamp": 1738257622565,
     "user": {
      "displayName": "Tinku Biswas",
      "userId": "05103989339399685899"
     },
     "user_tz": -330
    },
    "id": "fyKG7KO5OUKA"
   },
   "outputs": [],
   "source": [
    "##Column rename as per the standard script\n",
    "Pay.rename(columns={'ClaimNumber':'E/I/A/B','Post_Date':'Post Date','Payment':'Pay Amt','Ins_Pat_Flag':'Source'},inplace=True)\n",
    "Adj.rename(columns={'ClaimNumber':'E/I/A/B','Post_Date':'Post Date','Adjustment':'Adj Amt','Ins_Pat_Flag':'Source'},inplace=True)\n",
    "\n",
    "Pay['Prac Name'] = np.nan\n",
    "Adj['Prac Name'] = np.nan"
   ]
  },
  {
   "cell_type": "markdown",
   "metadata": {
    "id": "4D8jaSP1Og1_"
   },
   "source": [
    "#### Payment data preparation"
   ]
  },
  {
   "cell_type": "code",
   "execution_count": 9,
   "metadata": {
    "executionInfo": {
     "elapsed": 36855,
     "status": "ok",
     "timestamp": 1738257697497,
     "user": {
      "displayName": "Tinku Biswas",
      "userId": "05103989339399685899"
     },
     "user_tz": -330
    },
    "id": "BN4BrIypOiyr"
   },
   "outputs": [],
   "source": [
    "df_Pay = Pay[Pay['Source']=='Insurance'][['Prac Name','E/I/A/B','Post Date','Pay Amt']] #This might change as per the EPMs\n",
    "df_Pay['Post Date'] = pd.to_datetime(df_Pay['Post Date'], format='mixed').dt.normalize()\n",
    "\n",
    "\n",
    "df_Pay['Pay Amt'] = df_Pay['Pay Amt'].astype(str)+\"$\"\n",
    "df_Pay['Pay Amt'] = df_Pay['Pay Amt'].str.replace('$', \"\", regex=False)\\\n",
    "    .str.replace('(', \"-\", regex=False).str.replace(')', \"\", regex=False)\\\n",
    "        .str.replace(',', \"\", regex=False).str.replace(' ', \"\", regex=False)\n",
    "df_Pay['Pay Amt']=df_Pay['Pay Amt'].astype(float)\n",
    "\n",
    "df_Pay['Pay_Year'] = df_Pay['Post Date'].dt.year\n",
    "\n",
    "df_Pay['Pay_Month'] = df_Pay['Post Date'].dt.month\n",
    "df_Pay = df_Pay[['Prac Name','E/I/A/B','Pay Amt','Post Date','Pay_Year','Pay_Month']]\n",
    "df_Pay = df_Pay.pivot_table(index=['E/I/A/B','Post Date','Pay_Year','Pay_Month'],\n",
    "                            values='Pay Amt', aggfunc='sum').reset_index()\n",
    "df_Pay['E/I/A/B']  =df_Pay['E/I/A/B'].map(str)\n",
    "df_Pay['Enc'] = df_Pay['E/I/A/B'].str.split('.',expand=True)[0]\n",
    "df_Pay['Enc'] =  df_Pay['Enc'].map(str)\n",
    "df_Pay1=df_Pay[df_Pay['Pay Amt']>0]"
   ]
  },
  {
   "cell_type": "markdown",
   "metadata": {
    "id": "oxTfdi9lPJke"
   },
   "source": [
    "#### Adjustment data preparation"
   ]
  },
  {
   "cell_type": "code",
   "execution_count": 10,
   "metadata": {
    "executionInfo": {
     "elapsed": 46572,
     "status": "ok",
     "timestamp": 1738257849232,
     "user": {
      "displayName": "Tinku Biswas",
      "userId": "05103989339399685899"
     },
     "user_tz": -330
    },
    "id": "FcEbdHFLPLM5"
   },
   "outputs": [],
   "source": [
    "df_Adj = Adj[Adj['Source']=='Insurance'][['Prac Name','E/I/A/B','Post Date','Adj Amt']]\n",
    "df_Adj['Post Date'] = pd.to_datetime(df_Adj['Post Date'], format='mixed').dt.normalize()\n",
    "\n",
    "df_Adj['Adj Amt']=df_Adj['Adj Amt'].astype(str)+\"$\"\n",
    "df_Adj['Adj Amt'] = df_Adj['Adj Amt'].str.replace('$', \"\", regex=False)\\\n",
    "    .str.replace('(', \"-\", regex=False).str.replace(')', \"\", regex=False)\\\n",
    "        .str.replace(',', \"\", regex=False).str.replace(' ', \"\", regex=False)\n",
    "df_Adj['Adj Amt']=df_Adj['Adj Amt'].astype(float)\n",
    "df_Adj['Adj_Year'] = df_Adj['Post Date'].dt.year\n",
    "df_Adj['Adj_Month'] = df_Adj['Post Date'].dt.month\n",
    "df_Adj = df_Adj[['Prac Name','E/I/A/B','Adj Amt','Post Date','Adj_Year','Adj_Month']]\n",
    "df_Adj = df_Adj.pivot_table(index=['E/I/A/B','Post Date','Adj_Year','Adj_Month'],\n",
    "                            values='Adj Amt', aggfunc='sum').reset_index()\n",
    "df_Adj['E/I/A/B']  =df_Adj['E/I/A/B'].map(str)\n",
    "df_Adj['Enc'] = df_Adj['E/I/A/B'].str.split('.',expand=True)[0]\n",
    "df_Adj['Enc'] =  df_Adj['Enc'].map(str)\n",
    "\n",
    "df_Adj1=df_Adj[df_Adj['Adj Amt']>0]"
   ]
  },
  {
   "cell_type": "markdown",
   "metadata": {
    "id": "O0rSsK76PYBA"
   },
   "source": [
    "#### Production data preparation"
   ]
  },
  {
   "cell_type": "code",
   "execution_count": 11,
   "metadata": {
    "executionInfo": {
     "elapsed": 11396,
     "status": "ok",
     "timestamp": 1738257919675,
     "user": {
      "displayName": "Tinku Biswas",
      "userId": "05103989339399685899"
     },
     "user_tz": -330
    },
    "id": "FuBf8vSfPV72"
   },
   "outputs": [],
   "source": [
    "Prod['Practice_Code']=Prod['Encounter #'].str.split('-',expand=True)[0]\n",
    "Prod['E/I/A/B']=Prod['Encounter #'].str.split('-',expand=True)[1]\n",
    "df_Prod = Prod[(Prod['Practice_Code']=='2')]\n",
    "\n",
    "df_Prod['Index_val'] = np.arange(1,len(df_Prod)+1, 1)\n",
    "\n",
    "df_Prod['Activity Date'] = pd.to_datetime(df_Prod['Activity Date'], format = 'mixed').dt.normalize()\n",
    "df_Prod.sort_values(by=['E/I/A/B','Activity Date'], ascending=True, inplace=True )\n",
    "df_Prod['Prod_Year'] = df_Prod['Activity Date'].dt.year\n",
    "df_Prod['Prod_Month'] = df_Prod['Activity Date'].dt.month\n",
    "\n",
    "df_Prod['Total_Touch'] = df_Prod.groupby(['E/I/A/B']).cumcount()+1"
   ]
  },
  {
   "cell_type": "code",
   "execution_count": 12,
   "metadata": {
    "executionInfo": {
     "elapsed": 6692,
     "status": "ok",
     "timestamp": 1738257961863,
     "user": {
      "displayName": "Tinku Biswas",
      "userId": "05103989339399685899"
     },
     "user_tz": -330
    },
    "id": "jZ2HxrBiPsnf"
   },
   "outputs": [],
   "source": [
    "df_Prod['Total Balance'] = df_Prod[\"Total Balance\"].astype(str)+\"$\"\n",
    "df_Prod['Total Balance']=df_Prod['Total Balance'].str.replace('$', \"\", regex=False)\\\n",
    "    .str.replace('(', \"-\", regex=False).str.replace(')', \"\", regex=False)\\\n",
    "        .str.replace(',', \"\", regex=False).str.replace(' ', \"\", regex=False)\n",
    "df_Prod['Total Balance'].astype(float)\n",
    "df_Prod['Billed Amount'] =df_Prod['Billed Amount'].astype(str)+\"$\"\n",
    "df_Prod['Billed Amount'] =df_Prod['Billed Amount'].str.replace('$', \"\", regex=False)\\\n",
    "    .str.replace('(', \"-\", regex=False).str.replace(')', \"\", regex=False)\\\n",
    "        .str.replace(',', \"\", regex=False).str.replace(' ', \"\", regex=False)\n",
    "df_Prod['Billed Amount'] = df_Prod['Billed Amount'].astype(float)"
   ]
  },
  {
   "cell_type": "code",
   "execution_count": 13,
   "metadata": {
    "executionInfo": {
     "elapsed": 7669,
     "status": "ok",
     "timestamp": 1738258020067,
     "user": {
      "displayName": "Tinku Biswas",
      "userId": "05103989339399685899"
     },
     "user_tz": -330
    },
    "id": "sN5Qu7k6P9bv"
   },
   "outputs": [],
   "source": [
    "df_Prod['Enc'] = df_Prod['E/I/A/B'].map(str)\n",
    "df_Prod['Enc'] = df_Prod['Enc'].str.split('.',expand=True)[0]\n",
    "df_Prod['Enc'] =  df_Prod['Enc'].map(str)\n",
    "df_Prod['Next_Activity_raw'] = df_Prod['Activity Date'].shift(-1)\n",
    "df_Prod['Next_Enc'] = df_Prod['Enc'].shift(-1)\n",
    "\n",
    "df_Prod['Next_Activity'] = df_Prod.apply(lambda x : x['Next_Activity_raw'] if x['Enc'] == x['Next_Enc'] else np.nan, axis=1)\n",
    "\n",
    "df_Prod.drop(columns=['Next_Activity_raw','Next_Enc'], inplace=True)\n",
    "df_Prod['Next_Activity'].fillna(df_Prod['Activity Date'], inplace=True)"
   ]
  },
  {
   "cell_type": "markdown",
   "metadata": {
    "id": "WVwibnmnQH49"
   },
   "source": [
    "### Mapping of Production with Payment"
   ]
  },
  {
   "cell_type": "code",
   "execution_count": 14,
   "metadata": {
    "executionInfo": {
     "elapsed": 7807,
     "status": "ok",
     "timestamp": 1738258061260,
     "user": {
      "displayName": "Tinku Biswas",
      "userId": "05103989339399685899"
     },
     "user_tz": -330
    },
    "id": "QGB_zeaPQHTC"
   },
   "outputs": [],
   "source": [
    "df_Prod_Merged = df_Prod.merge(df_Pay1, how='left', on = 'Enc')\n",
    "df_Prod_Merged['Days_Diff'] = (df_Prod_Merged['Post Date'] - df_Prod_Merged['Activity Date']).dt.days\n",
    "df_Prod_Merged['E/I/A/B_x'] = df_Prod_Merged['E/I/A/B_x'].astype(str)\n",
    "\n",
    "df_Prod_Payment =  df_Prod_Merged[df_Prod_Merged['Post Date'].notna()]\n",
    "df_Prod_Payment['Post_to_Activity'] = (df_Prod_Payment['Post Date'] - df_Prod_Payment['Activity Date']).dt.days\n",
    "df_Prod_Payment['Post_to_Next_Activity'] = (df_Prod_Payment['Post Date'] - df_Prod_Payment['Next_Activity'] ).dt.days"
   ]
  },
  {
   "cell_type": "code",
   "execution_count": 15,
   "metadata": {
    "executionInfo": {
     "elapsed": 13595,
     "status": "ok",
     "timestamp": 1738258089981,
     "user": {
      "displayName": "Tinku Biswas",
      "userId": "05103989339399685899"
     },
     "user_tz": -330
    },
    "id": "xRUy6HwMQTiZ"
   },
   "outputs": [],
   "source": [
    "def Valid_Payment_Ind(Post_Activity, Post_to_Next_Activity):\n",
    "\n",
    "    Post_Activity = int(Post_Activity)\n",
    "    Post_to_Next_Activity = int(Post_to_Next_Activity)\n",
    "    output = ''\n",
    "\n",
    "    if Post_Activity >=0 &  Post_to_Next_Activity >=0:\n",
    "        if Post_Activity == Post_to_Next_Activity:\n",
    "            output= 'Y'\n",
    "        elif Post_Activity != Post_to_Next_Activity:\n",
    "            output = 'N'\n",
    "    elif Post_Activity >=0 & Post_to_Next_Activity <0:\n",
    "        output= 'Y'\n",
    "    elif Post_Activity <0 & Post_to_Next_Activity <0:\n",
    "        output= 'N'\n",
    "    else:\n",
    "        output= 'N'\n",
    "\n",
    "    return output\n",
    "    #print(Post_Activity, Post_to_Next_Activity,output )\n",
    "df_Prod_Payment['Valid_Payment'] = df_Prod_Payment.apply(lambda x : Valid_Payment_Ind(x['Post_to_Activity'],\n",
    "                                                                                         x['Post_to_Next_Activity']),\n",
    "                                                           axis=1)"
   ]
  },
  {
   "cell_type": "markdown",
   "metadata": {
    "id": "fgOVr4WKQYRl"
   },
   "source": [
    "### Mapping of Production with Adj"
   ]
  },
  {
   "cell_type": "code",
   "execution_count": 16,
   "metadata": {
    "executionInfo": {
     "elapsed": 32752,
     "status": "ok",
     "timestamp": 1738258181633,
     "user": {
      "displayName": "Tinku Biswas",
      "userId": "05103989339399685899"
     },
     "user_tz": -330
    },
    "id": "_8NAgLunQcmI"
   },
   "outputs": [],
   "source": [
    "df_Prod_Merged_Adj = df_Prod.merge(df_Adj1, how='left', on = 'Enc')\n",
    "df_Prod_Merged_Adj['Days_Diff'] = (df_Prod_Merged_Adj['Post Date'] - df_Prod_Merged_Adj['Activity Date']).dt.days\n",
    "df_Prod_Merged_Adj['E/I/A/B_x'] = df_Prod_Merged_Adj['E/I/A/B_x'].astype(str)\n",
    "\n",
    "df_Prod_Adj =  df_Prod_Merged_Adj[df_Prod_Merged_Adj['Post Date'].notna()]\n",
    "df_Prod_Adj['Post_to_Activity'] = (df_Prod_Adj['Post Date'] - df_Prod_Adj['Activity Date']).dt.days\n",
    "df_Prod_Adj['Post_to_Next_Activity'] = (df_Prod_Adj['Post Date'] - df_Prod_Adj['Next_Activity'] ).dt.days\n",
    "df_Prod_Adj['Valid_Adj'] = df_Prod_Adj.apply(lambda x : Valid_Payment_Ind(x['Post_to_Activity'],\n",
    "                                                                                         x['Post_to_Next_Activity']),\n",
    "                                                           axis=1)"
   ]
  },
  {
   "cell_type": "code",
   "execution_count": 17,
   "metadata": {
    "executionInfo": {
     "elapsed": 1283,
     "status": "ok",
     "timestamp": 1738258182914,
     "user": {
      "displayName": "Tinku Biswas",
      "userId": "05103989339399685899"
     },
     "user_tz": -330
    },
    "id": "GnCnKRG_QnbD"
   },
   "outputs": [],
   "source": [
    "df_Prod_Adj_F= df_Prod_Adj[df_Prod_Adj['Valid_Adj']=='Y'][['Index_val','Post Date','Adj Amt']]\n",
    "df_Prod_Pay_F= df_Prod_Payment[df_Prod_Payment['Valid_Payment']=='Y'][['Index_val','Post Date','Pay Amt']]\n"
   ]
  },
  {
   "cell_type": "markdown",
   "metadata": {
    "id": "hdMrH3x-QvrI"
   },
   "source": [
    "### Source DFs df_Prod_Adj_F, df_Prod_Pay_F\n",
    "#### New DF from df_Prod, merged with above DFs to tag the payments and Adjustments"
   ]
  },
  {
   "cell_type": "code",
   "execution_count": 18,
   "metadata": {
    "executionInfo": {
     "elapsed": 7291,
     "status": "ok",
     "timestamp": 1738258246331,
     "user": {
      "displayName": "Tinku Biswas",
      "userId": "05103989339399685899"
     },
     "user_tz": -330
    },
    "id": "4FoCPouvQw5v"
   },
   "outputs": [],
   "source": [
    "# Join the production with Adjustment and update liquidation month\n",
    "df_Prod_Adj_f1 = df_Prod.merge(df_Prod_Adj_F, how='inner', on='Index_val')\n",
    "df_Prod_Adj_f1['Date_Diff'] = np.round((((df_Prod_Adj_f1['Post Date'] - df_Prod_Adj_f1['Activity Date']).dt.days)/30),0)\n",
    "\n",
    "# Join the production with Payment and update liquidation month\n",
    "df_Prod_Pay_f1 = df_Prod.merge(df_Prod_Pay_F, how='inner', on='Index_val')\n",
    "df_Prod_Pay_f1['Date_Diff'] = np.round((((df_Prod_Pay_f1['Post Date'] - df_Prod_Pay_f1['Activity Date']).dt.days)/30),0)\n",
    "\n",
    "df_Prod_Adj_f2 = df_Prod_Adj_f1.groupby(by=['Index_val','Date_Diff'])['Adj Amt'].sum().reset_index()#reset_index(name='Amount')\n",
    "df_Prod_Adj_f2['Liq_Category'] = 'Adj'\n",
    "df_Prod_Pay_f2 = df_Prod_Pay_f1.groupby(by=['Index_val','Date_Diff'])['Pay Amt'].sum().reset_index()#(name='Amount')\n",
    "df_Prod_Pay_f2['Liq_Category'] = 'Pay'\n",
    "\n",
    "df_Prod_liq_Final = pd.concat([df_Prod_Adj_f2,df_Prod_Pay_f2])\n",
    "df_Prod_final_1 = df_Prod.merge(df_Prod_liq_Final, how='left', on='Index_val')\n",
    "\n",
    "# Add index column to identify the duplicates\n",
    "df_Prod_final_1['Index'] = np.arange(1,len(df_Prod_final_1)+1,1)\n",
    "unique_index = df_Prod_final_1.groupby(by=['Index_val'])['Index'].min().reset_index(name='Index')\n",
    "\n",
    "df_Prod_final_1.set_index('Index', inplace=True)"
   ]
  },
  {
   "cell_type": "code",
   "execution_count": 19,
   "metadata": {
    "executionInfo": {
     "elapsed": 32241,
     "status": "ok",
     "timestamp": 1738258320342,
     "user": {
      "displayName": "Tinku Biswas",
      "userId": "05103989339399685899"
     },
     "user_tz": -330
    },
    "id": "TRr_KmDzRDqY"
   },
   "outputs": [],
   "source": [
    "df_Prod_final_1['Encounter'] = np.nan\n",
    "df_Prod_final_1['Balance_worked'] = 0.0\n",
    "df_Prod_final_1['Resolved_Encounter']  = np.nan\n",
    "\n",
    "df_Prod_final_1.loc[unique_index['Index'].unique(),'Encounter'] = df_Prod_final_1['Enc']\n",
    "df_Prod_final_1.loc[unique_index['Index'].unique(),'Balance_worked'] = df_Prod_final_1['Total Balance']\n",
    "\n",
    "df_Prod_final_1['Resolved']  =df_Prod_final_1['Liq_Category'].apply(lambda x : 'Y' if pd.notnull(x) else 'N')\n",
    "df_Prod_final_1['Resolved_Encounter']  =df_Prod_final_1.apply(lambda x : x.Enc if x.Resolved == 'Y' else '', axis=1)"
   ]
  },
  {
   "cell_type": "code",
   "execution_count": 20,
   "metadata": {
    "executionInfo": {
     "elapsed": 4078,
     "status": "ok",
     "timestamp": 1738258324398,
     "user": {
      "displayName": "Tinku Biswas",
      "userId": "05103989339399685899"
     },
     "user_tz": -330
    },
    "id": "Pjtw28fnRHVF"
   },
   "outputs": [],
   "source": [
    "df_Prod_final_2 = df_Prod_final_1\n",
    "df_Prod_final_2.reset_index(inplace=True)\n",
    "df_Liq_cat = df_Prod_final_2.pivot_table(index='E/I/A/B', columns='Liq_Category',values='Resolved_Encounter', aggfunc='count').reset_index()\n",
    "df_Liq_cat = df_Liq_cat[df_Liq_cat['Pay'].isna()]\n",
    "df_Liq_cat_Encs = df_Liq_cat['E/I/A/B']\n",
    "Full_Adjusted_indx = df_Prod_final_1[df_Prod_final_1['E/I/A/B'].isin(df_Liq_cat_Encs)].index\n",
    "df_Prod_final_1['Fully_Adjusted'] = np.nan\n",
    "df_Prod_final_1.loc[Full_Adjusted_indx,'Fully_Adjusted'] = df_Prod_final_1['Enc']"
   ]
  },
  {
   "cell_type": "code",
   "execution_count": 21,
   "metadata": {
    "executionInfo": {
     "elapsed": 12338,
     "status": "ok",
     "timestamp": 1738258374577,
     "user": {
      "displayName": "Tinku Biswas",
      "userId": "05103989339399685899"
     },
     "user_tz": -330
    },
    "id": "RcIvCCIURMOp"
   },
   "outputs": [],
   "source": [
    "Desp = pd.read_csv(r'/content/drive/disp.csv')\n",
    "df_Prod_final_1 = df_Prod_final_1.merge(Desp, on='Disposition Code', how='left')\n",
    "df_Prod_final_1['Associate']=df_Prod_final_1['Associate'].str.split(\"(\", expand = True)[0]\n",
    "df_Prod_final_1['Supervisor']=df_Prod_final_1['Supervisor'].str.split(\"(\", expand = True)[0]\n",
    "df_Prod_final_1['Activity_Year'] = df_Prod_final_1['Activity Date'].dt.year\n",
    "df_Prod_final_1['Activity_Month']=df_Prod_final_1['Activity Date'].dt.month\n",
    "df_Prod_final_1['Prac_Type'] = df_Prod_final_1['Practice'].apply(lambda x : 'Lab' if x in ['Mid-Atlantic POL','Mid-West POL'] else 'Non Lab')"
   ]
  },
  {
   "cell_type": "code",
   "execution_count": 22,
   "metadata": {
    "executionInfo": {
     "elapsed": 18781,
     "status": "ok",
     "timestamp": 1738258402400,
     "user": {
      "displayName": "Tinku Biswas",
      "userId": "05103989339399685899"
     },
     "user_tz": -330
    },
    "id": "IdmGzhjPRd0B"
   },
   "outputs": [],
   "source": [
    "def inv(rows):\n",
    "    action_code = rows['Action Code']\n",
    "\n",
    "    if 'Appeal' in action_code or \\\n",
    "       'Investigation' in action_code or \\\n",
    "       'Redetermination' in action_code:\n",
    "        val = \"Appeal\"\n",
    "    #elif rows['Bucket'] == 'ERA Payer Denial':\n",
    "        #val = \"Denial\"\n",
    "    else:\n",
    "        val = \"Follow up\"\n",
    "\n",
    "    return val\n",
    "\n",
    "df_Prod_final_1['Inventory_type'] = df_Prod_final_1.apply(inv, axis=1)"
   ]
  },
  {
   "cell_type": "code",
   "execution_count": 23,
   "metadata": {
    "executionInfo": {
     "elapsed": 23084,
     "status": "ok",
     "timestamp": 1738258434748,
     "user": {
      "displayName": "Tinku Biswas",
      "userId": "05103989339399685899"
     },
     "user_tz": -330
    },
    "id": "11l-YENBRkwO"
   },
   "outputs": [],
   "source": [
    "Action_CD = [\"CLIENT ASSIST-CODING-CLIENT ASSIST-CODING\",\"CLIENT ASSIST-FMC-CLIENT ASSIST-FMC\",\n",
    "             'CLIENT ASSIST-NEED MR-CLIENT ASSIST-NEED MR',\"CLIENT ASSIST - AUTH/REF-CLIENT ASSIST - AUTH/REF\",\n",
    "             \"CLIENT ASSIST-DEMO MISMCH-CLIENT ASSIST-DEMO MISMCH\",\"CLIENT ASSIST - CREDENTIALING-CLIENT ASSIST - CREDENTIALING\",\n",
    "             \"CLIENT ASSIST-INFO INS-CLIENT ASSIST-INFO INS\",\"CLIENT ASSIST-CHG CORRECT-CLIENT ASSIST-CHG CORRECT\",\n",
    "             \"CLIENT ASSIST-REJECTIONS-CLIENT ASSIST-REJECTIONS\",\"CLIENT ASSIST-LITIGATION-CLIENT ASSIST-LITIGATION\",\n",
    "             \"CLIENT ASSIST - CREDENTIALING-CLIENT ASSIST - CRED\",\"CLIENT ASSIST-DEMO MISMCH-CLIENT ASSIST-DEMO MISMC\"\n",
    "             \"CLAIM PRCOCESSED - PAYMENT PENDING-CLAIM PRCOCESSED - PAYMENT PENDING\",\n",
    "             \"CLAIM PRCOCESSED - PAYMENT PENDING-CLAIM PRCOCESSE\",\"PYMT POSTING-PEND>10DAYS-PYMT POSTING-PEND>10DAYS\",\n",
    "             \"CHK CASHED REQSTD CHK CPY-CHK CASHED REQSTD CHK CPY\",\"Adj > 500-Adj > 500\",\"BILLED PATIENT-BILLED PATIENT\",\n",
    "             \"FWD to IKS Supervisor-FWD to IKS Supervisor\",\"IKS - Billing Assistance-IKS - Billing Assistance\",\n",
    "             \"PAR ASSISTANCE-PAR ASSISTANCE\",\"Payment Posting-Payment Posting\",\n",
    "             \"Pending for approval-Pending for approval\",\"RECENTLY PD < 10 DAYS-RECENTLY PD < 10 DAYS\",\n",
    "             \"REQUEST REFUND/OFFSET LETTER-REQUEST REFUND/OFFSET LETTER\"]\n",
    "\n",
    "def T (rows):\n",
    "\n",
    "    if (rows['Disposition Code']==\"Adj approval Pending-Adj approval Pending\") or\\\n",
    "        (rows['Action Code']==\"Adj < 500-Adj < 500\"):\n",
    "        val = 'Tasked'\n",
    "    elif rows[\"Action Code\"] in (Action_CD):\n",
    "        val = 'Tasked'\n",
    "    else:\n",
    "        val = \"Not Tasked\"\n",
    "    return val\n",
    "\n",
    "Tasked = df_Prod_final_1[['Encounter #','Disposition Code','Action Code']]\n",
    "Tasked[\"Tasked_Status\"] = Tasked.apply(T, axis=1)\n",
    "Tasked = Tasked[Tasked['Tasked_Status'] == \"Tasked\"][['Encounter #','Tasked_Status']]\n",
    "df_Prod_final_1 = df_Prod_final_1.merge(Tasked, how= 'left', on=\"Encounter #\")"
   ]
  },
  {
   "cell_type": "code",
   "execution_count": 24,
   "metadata": {
    "executionInfo": {
     "elapsed": 11452,
     "status": "ok",
     "timestamp": 1738258590413,
     "user": {
      "displayName": "Tinku Biswas",
      "userId": "05103989339399685899"
     },
     "user_tz": -330
    },
    "id": "UkoZdBNwRsiE"
   },
   "outputs": [],
   "source": [
    "df_Prod_final_1.to_csv(r\"/content/drive/My Drive/data_model_productio.csv\", index=False)"
   ]
  }
 ],
 "metadata": {
  "colab": {
   "authorship_tag": "ABX9TyMPTp/EUE0GCyweYuhb6onI",
   "provenance": []
  },
  "kernelspec": {
   "display_name": "Python 3",
   "name": "python3"
  },
  "language_info": {
   "name": "python"
  }
 },
 "nbformat": 4,
 "nbformat_minor": 0
}
